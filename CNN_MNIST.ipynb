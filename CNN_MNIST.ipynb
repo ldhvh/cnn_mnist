{
  "nbformat": 4,
  "nbformat_minor": 0,
  "metadata": {
    "colab": {
      "provenance": []
    },
    "kernelspec": {
      "name": "python3",
      "display_name": "Python 3"
    },
    "language_info": {
      "name": "python"
    }
  },
  "cells": [
    {
      "cell_type": "code",
      "execution_count": null,
      "metadata": {
        "id": "IJi9yQgFXyTC"
      },
      "outputs": [],
      "source": [
        "%%capture\n",
        "#Leila Zhuruntayeva, CS-2111\n",
        "#installs langchain and huggingface_hub packages\n",
        "!pip install langchain\n",
        "!pip install huggingface_hub"
      ]
    },
    {
      "cell_type": "code",
      "source": [
        "import langchain\n",
        "import os\n",
        "from getpass import getpass\n",
        "token = \"\"\n",
        "# sets the hugging face api token as an environment variable for authentication\n",
        "os.environ[\"HUGGINGFACEHUB_API_TOKEN\"] = token"
      ],
      "metadata": {
        "id": "CpdeRMeNX7PN"
      },
      "execution_count": null,
      "outputs": []
    },
    {
      "cell_type": "code",
      "source": [
        "# open-source LLM hosted on Hugging Face\n",
        "from langchain import HuggingFaceHub\n",
        "llm = HuggingFaceHub(repo_id = \"mistralai/Mistral-7B-v0.1\")"
      ],
      "metadata": {
        "id": "5mala2mqX_7N",
        "colab": {
          "base_uri": "https://localhost:8080/"
        },
        "outputId": "eabd27e6-0a32-47f5-9748-c6b404ce29ec"
      },
      "execution_count": null,
      "outputs": [
        {
          "output_type": "stream",
          "name": "stderr",
          "text": [
            "/usr/local/lib/python3.10/dist-packages/huggingface_hub/utils/_deprecation.py:127: FutureWarning: '__init__' (from 'huggingface_hub.inference_api') is deprecated and will be removed from version '1.0'. `InferenceApi` client is deprecated in favor of the more feature-complete `InferenceClient`. Check out this guide to learn how to convert your script to use it: https://huggingface.co/docs/huggingface_hub/guides/inference#legacy-inferenceapi-client.\n",
            "  warnings.warn(warning_message, FutureWarning)\n"
          ]
        }
      ]
    },
    {
      "cell_type": "code",
      "source": [
        "# taking prompt as an input and outputs a completion\n",
        "prompt = \"What are the main symptoms of fybromyalgia?\"\n",
        "completion = llm(prompt)"
      ],
      "metadata": {
        "id": "Tfl2yRd6YAe0"
      },
      "execution_count": null,
      "outputs": []
    },
    {
      "cell_type": "code",
      "source": [
        "completion"
      ],
      "metadata": {
        "colab": {
          "base_uri": "https://localhost:8080/",
          "height": 70
        },
        "id": "jVbB0_jRYCeV",
        "outputId": "ab72accd-d57e-46db-9413-be6aa5dcd332"
      },
      "execution_count": null,
      "outputs": [
        {
          "output_type": "execute_result",
          "data": {
            "text/plain": [
              "'\\n\\nFibromyalgia is a chronic condition that causes widespread pain and tenderness in the muscles and joints. It is also associated with fatigue, sleep problems, and mood changes.\\n\\nThe main symptoms of fibromyalgia are:\\n\\n- Widespread pain: This is the most common symptom of fibromyalgia. It is often described as a deep, aching pain that affects the muscles and joints. The pain may be constant'"
            ],
            "application/vnd.google.colaboratory.intrinsic+json": {
              "type": "string"
            }
          },
          "metadata": {},
          "execution_count": 33
        }
      ]
    },
    {
      "cell_type": "code",
      "source": [
        "prompt = \"What are the aerobic exercises?\"\n",
        "completion = llm(prompt)"
      ],
      "metadata": {
        "id": "-NDNR6CZpSxX"
      },
      "execution_count": null,
      "outputs": []
    },
    {
      "cell_type": "code",
      "source": [
        "completion"
      ],
      "metadata": {
        "colab": {
          "base_uri": "https://localhost:8080/",
          "height": 70
        },
        "id": "hMEvRsU8pXp_",
        "outputId": "a8d33a8c-116a-4b47-9b70-9bcdf2519df8"
      },
      "execution_count": null,
      "outputs": [
        {
          "output_type": "execute_result",
          "data": {
            "text/plain": [
              "'\\n\\nAerobic exercises are those exercises that are done for a long time and at a moderate pace. These exercises are also known as cardio exercises. These exercises are done to improve the cardiovascular health of the body.\\n\\nAerobic exercises are those exercises that are done for a long time and at a moderate pace. These exercises are also known as cardio exercises. These exercises are done to improve the cardiovascular health of the body.\\n\\nAer'"
            ],
            "application/vnd.google.colaboratory.intrinsic+json": {
              "type": "string"
            }
          },
          "metadata": {},
          "execution_count": 35
        }
      ]
    },
    {
      "cell_type": "code",
      "source": [
        "prompt = \"How can I help myself?\"\n",
        "completion = llm(prompt)"
      ],
      "metadata": {
        "id": "0bT49Yxhpl7O"
      },
      "execution_count": null,
      "outputs": []
    },
    {
      "cell_type": "code",
      "source": [
        "completion"
      ],
      "metadata": {
        "colab": {
          "base_uri": "https://localhost:8080/",
          "height": 53
        },
        "id": "q34lEkbIpnhD",
        "outputId": "705259ac-7863-488f-8262-b3278eda7bce"
      },
      "execution_count": null,
      "outputs": [
        {
          "output_type": "execute_result",
          "data": {
            "text/plain": [
              "'\\n\\n- If you are feeling suicidal, please call the Samaritans on 116 123.\\n- If you are feeling suicidal, please call the Samaritans on 116 123.\\n- If you are feeling suicidal, please call the Samaritans on 116 123.\\n- If you are feeling suicidal, please call the Samaritans on'"
            ],
            "application/vnd.google.colaboratory.intrinsic+json": {
              "type": "string"
            }
          },
          "metadata": {},
          "execution_count": 37
        }
      ]
    },
    {
      "cell_type": "markdown",
      "source": [
        "Embedding - ext.data"
      ],
      "metadata": {
        "id": "nVlqyz-KYJGt"
      }
    },
    {
      "cell_type": "code",
      "source": [
        "!pip install sentence-transformers\n",
        "# installs SentenceTransformers, sets up text embeddings\n",
        "from langchain.embeddings import HuggingFaceEmbeddings\n",
        "embeddings = HuggingFaceEmbeddings(model_name = \"sentence-transformers/all-MiniLM-L6-v2\")"
      ],
      "metadata": {
        "id": "PexiLxo9YO_8",
        "colab": {
          "base_uri": "https://localhost:8080/"
        },
        "outputId": "ffae6f14-933f-430e-b9d8-363acdddfda1"
      },
      "execution_count": null,
      "outputs": [
        {
          "output_type": "stream",
          "name": "stdout",
          "text": [
            "Requirement already satisfied: sentence-transformers in /usr/local/lib/python3.10/dist-packages (2.2.2)\n",
            "Requirement already satisfied: transformers<5.0.0,>=4.6.0 in /usr/local/lib/python3.10/dist-packages (from sentence-transformers) (4.35.2)\n",
            "Requirement already satisfied: tqdm in /usr/local/lib/python3.10/dist-packages (from sentence-transformers) (4.66.1)\n",
            "Requirement already satisfied: torch>=1.6.0 in /usr/local/lib/python3.10/dist-packages (from sentence-transformers) (2.1.0+cu121)\n",
            "Requirement already satisfied: torchvision in /usr/local/lib/python3.10/dist-packages (from sentence-transformers) (0.16.0+cu121)\n",
            "Requirement already satisfied: numpy in /usr/local/lib/python3.10/dist-packages (from sentence-transformers) (1.23.5)\n",
            "Requirement already satisfied: scikit-learn in /usr/local/lib/python3.10/dist-packages (from sentence-transformers) (1.2.2)\n",
            "Requirement already satisfied: scipy in /usr/local/lib/python3.10/dist-packages (from sentence-transformers) (1.11.4)\n",
            "Requirement already satisfied: nltk in /usr/local/lib/python3.10/dist-packages (from sentence-transformers) (3.8.1)\n",
            "Requirement already satisfied: sentencepiece in /usr/local/lib/python3.10/dist-packages (from sentence-transformers) (0.1.99)\n",
            "Requirement already satisfied: huggingface-hub>=0.4.0 in /usr/local/lib/python3.10/dist-packages (from sentence-transformers) (0.19.4)\n",
            "Requirement already satisfied: filelock in /usr/local/lib/python3.10/dist-packages (from huggingface-hub>=0.4.0->sentence-transformers) (3.13.1)\n",
            "Requirement already satisfied: fsspec>=2023.5.0 in /usr/local/lib/python3.10/dist-packages (from huggingface-hub>=0.4.0->sentence-transformers) (2023.6.0)\n",
            "Requirement already satisfied: requests in /usr/local/lib/python3.10/dist-packages (from huggingface-hub>=0.4.0->sentence-transformers) (2.31.0)\n",
            "Requirement already satisfied: pyyaml>=5.1 in /usr/local/lib/python3.10/dist-packages (from huggingface-hub>=0.4.0->sentence-transformers) (6.0.1)\n",
            "Requirement already satisfied: typing-extensions>=3.7.4.3 in /usr/local/lib/python3.10/dist-packages (from huggingface-hub>=0.4.0->sentence-transformers) (4.5.0)\n",
            "Requirement already satisfied: packaging>=20.9 in /usr/local/lib/python3.10/dist-packages (from huggingface-hub>=0.4.0->sentence-transformers) (23.2)\n",
            "Requirement already satisfied: sympy in /usr/local/lib/python3.10/dist-packages (from torch>=1.6.0->sentence-transformers) (1.12)\n",
            "Requirement already satisfied: networkx in /usr/local/lib/python3.10/dist-packages (from torch>=1.6.0->sentence-transformers) (3.2.1)\n",
            "Requirement already satisfied: jinja2 in /usr/local/lib/python3.10/dist-packages (from torch>=1.6.0->sentence-transformers) (3.1.2)\n",
            "Requirement already satisfied: triton==2.1.0 in /usr/local/lib/python3.10/dist-packages (from torch>=1.6.0->sentence-transformers) (2.1.0)\n",
            "Requirement already satisfied: regex!=2019.12.17 in /usr/local/lib/python3.10/dist-packages (from transformers<5.0.0,>=4.6.0->sentence-transformers) (2023.6.3)\n",
            "Requirement already satisfied: tokenizers<0.19,>=0.14 in /usr/local/lib/python3.10/dist-packages (from transformers<5.0.0,>=4.6.0->sentence-transformers) (0.15.0)\n",
            "Requirement already satisfied: safetensors>=0.3.1 in /usr/local/lib/python3.10/dist-packages (from transformers<5.0.0,>=4.6.0->sentence-transformers) (0.4.1)\n",
            "Requirement already satisfied: click in /usr/local/lib/python3.10/dist-packages (from nltk->sentence-transformers) (8.1.7)\n",
            "Requirement already satisfied: joblib in /usr/local/lib/python3.10/dist-packages (from nltk->sentence-transformers) (1.3.2)\n",
            "Requirement already satisfied: threadpoolctl>=2.0.0 in /usr/local/lib/python3.10/dist-packages (from scikit-learn->sentence-transformers) (3.2.0)\n",
            "Requirement already satisfied: pillow!=8.3.*,>=5.3.0 in /usr/local/lib/python3.10/dist-packages (from torchvision->sentence-transformers) (9.4.0)\n",
            "Requirement already satisfied: MarkupSafe>=2.0 in /usr/local/lib/python3.10/dist-packages (from jinja2->torch>=1.6.0->sentence-transformers) (2.1.3)\n",
            "Requirement already satisfied: charset-normalizer<4,>=2 in /usr/local/lib/python3.10/dist-packages (from requests->huggingface-hub>=0.4.0->sentence-transformers) (3.3.2)\n",
            "Requirement already satisfied: idna<4,>=2.5 in /usr/local/lib/python3.10/dist-packages (from requests->huggingface-hub>=0.4.0->sentence-transformers) (3.6)\n",
            "Requirement already satisfied: urllib3<3,>=1.21.1 in /usr/local/lib/python3.10/dist-packages (from requests->huggingface-hub>=0.4.0->sentence-transformers) (2.0.7)\n",
            "Requirement already satisfied: certifi>=2017.4.17 in /usr/local/lib/python3.10/dist-packages (from requests->huggingface-hub>=0.4.0->sentence-transformers) (2023.11.17)\n",
            "Requirement already satisfied: mpmath>=0.19 in /usr/local/lib/python3.10/dist-packages (from sympy->torch>=1.6.0->sentence-transformers) (1.3.0)\n"
          ]
        }
      ]
    },
    {
      "cell_type": "code",
      "source": [
        "# generates text embedding for the provided text\n",
        "text = \"text\"\n",
        "text_embedding = embeddings.embed_query(text)"
      ],
      "metadata": {
        "id": "EWTi0oSyYRQc"
      },
      "execution_count": null,
      "outputs": []
    },
    {
      "cell_type": "code",
      "source": [
        "text_embedding"
      ],
      "metadata": {
        "id": "N1-tH_yNYSnt",
        "colab": {
          "base_uri": "https://localhost:8080/"
        },
        "outputId": "b6c55a91-89fc-4702-b926-a11b745192da"
      },
      "execution_count": null,
      "outputs": [
        {
          "output_type": "execute_result",
          "data": {
            "text/plain": [
              "[0.014475899748504162,\n",
              " 0.07228005677461624,\n",
              " -0.021847374737262726,\n",
              " 0.027838323265314102,\n",
              " -0.03255634754896164,\n",
              " 0.03891463577747345,\n",
              " 0.13196887075901031,\n",
              " 0.040142644196748734,\n",
              " 0.11188973486423492,\n",
              " -0.04175683110952377,\n",
              " 0.04023204371333122,\n",
              " 0.05726224556565285,\n",
              " 0.014718630351126194,\n",
              " -0.0023740315809845924,\n",
              " 0.0006514546112157404,\n",
              " 0.019112829118967056,\n",
              " 0.07063928246498108,\n",
              " -0.04581277072429657,\n",
              " -0.08963265269994736,\n",
              " -0.053711023181676865,\n",
              " 0.019062403589487076,\n",
              " 0.07670916616916656,\n",
              " 0.03966067358851433,\n",
              " 0.04107019305229187,\n",
              " -0.0020099515095353127,\n",
              " 0.12502679228782654,\n",
              " -0.1073010116815567,\n",
              " 0.062063876539468765,\n",
              " 0.043619927018880844,\n",
              " -0.040859099477529526,\n",
              " -0.0452728271484375,\n",
              " 0.03711405023932457,\n",
              " 0.14580842852592468,\n",
              " 0.03468616306781769,\n",
              " -0.04757184907793999,\n",
              " 0.00928465835750103,\n",
              " -0.026461761444807053,\n",
              " 0.027106797322630882,\n",
              " -0.01844358630478382,\n",
              " 0.002408117987215519,\n",
              " -0.0311924796551466,\n",
              " -0.10679489374160767,\n",
              " 0.004846999421715736,\n",
              " 0.0177229642868042,\n",
              " 0.07387687265872955,\n",
              " -0.02600940316915512,\n",
              " -0.042882051318883896,\n",
              " 0.013543659821152687,\n",
              " 0.024877898395061493,\n",
              " 0.0593583807349205,\n",
              " -0.036900296807289124,\n",
              " -0.05450381338596344,\n",
              " -0.051444604992866516,\n",
              " 0.0164780393242836,\n",
              " -0.020982231944799423,\n",
              " 0.07072392106056213,\n",
              " 0.017505081370472908,\n",
              " 0.02398402988910675,\n",
              " 0.02456521801650524,\n",
              " -0.0038363782223314047,\n",
              " 0.02863672561943531,\n",
              " 0.0222630575299263,\n",
              " -0.011378196068108082,\n",
              " 0.05782996490597725,\n",
              " 0.04911874234676361,\n",
              " -0.01182109210640192,\n",
              " -0.025163117796182632,\n",
              " 0.04594828188419342,\n",
              " -0.11566080152988434,\n",
              " -0.026051975786685944,\n",
              " 0.020774327218532562,\n",
              " -0.004686296917498112,\n",
              " 0.036241766065359116,\n",
              " 0.09511207044124603,\n",
              " 0.020395221188664436,\n",
              " -0.04429791122674942,\n",
              " -0.01547333225607872,\n",
              " -0.07091491669416428,\n",
              " 0.05856359004974365,\n",
              " 0.03596276417374611,\n",
              " -0.02381766028702259,\n",
              " -0.02142377756536007,\n",
              " 0.0651203989982605,\n",
              " 0.08304537087678909,\n",
              " 0.03530092537403107,\n",
              " 0.03405161574482918,\n",
              " 0.032043442130088806,\n",
              " 0.020917991176247597,\n",
              " -0.041889164596796036,\n",
              " 0.0013749580830335617,\n",
              " 0.007375509012490511,\n",
              " -0.06302357465028763,\n",
              " 0.0935978814959526,\n",
              " -0.008962685242295265,\n",
              " -0.16742998361587524,\n",
              " 0.04877064377069473,\n",
              " -0.049492452293634415,\n",
              " -0.09482940286397934,\n",
              " -0.0176371019333601,\n",
              " 0.2162868082523346,\n",
              " 0.015315729193389416,\n",
              " -0.010374877601861954,\n",
              " 0.030799901112914085,\n",
              " 0.007383700460195541,\n",
              " -0.05601126700639725,\n",
              " -0.05085067078471184,\n",
              " 0.05479834973812103,\n",
              " -0.0258654598146677,\n",
              " 0.01721992902457714,\n",
              " -0.05552541837096214,\n",
              " 0.02043052203953266,\n",
              " -0.07325087487697601,\n",
              " -0.12026888877153397,\n",
              " -0.05200807750225067,\n",
              " -0.021687529981136322,\n",
              " -0.08740883320569992,\n",
              " 0.007366823498159647,\n",
              " -0.030543925240635872,\n",
              " 0.06653465330600739,\n",
              " 0.04344857111573219,\n",
              " -0.04514167085289955,\n",
              " -0.037225671112537384,\n",
              " -0.06342683732509613,\n",
              " 0.0072012897580862045,\n",
              " -0.06362860649824142,\n",
              " -0.0562736839056015,\n",
              " 0.06513499468564987,\n",
              " -4.25062393942987e-33,\n",
              " 0.026117224246263504,\n",
              " -0.001309226849116385,\n",
              " 0.04082934930920601,\n",
              " 0.09775550663471222,\n",
              " -0.015626387670636177,\n",
              " 0.0554533489048481,\n",
              " -0.08452558517456055,\n",
              " -0.06111668050289154,\n",
              " -0.024471065029501915,\n",
              " -0.0018363255076110363,\n",
              " 0.011364860460162163,\n",
              " -0.03565853089094162,\n",
              " -0.004573259502649307,\n",
              " -0.001043899916112423,\n",
              " 0.07126975059509277,\n",
              " -0.07238122075796127,\n",
              " -0.03445473313331604,\n",
              " 0.04831397533416748,\n",
              " 0.025725871324539185,\n",
              " -0.03521738201379776,\n",
              " -0.056693051010370255,\n",
              " 0.03276699781417847,\n",
              " 0.047312960028648376,\n",
              " -0.0006459506112150848,\n",
              " -0.011480522342026234,\n",
              " 0.019029218703508377,\n",
              " 0.003714693011716008,\n",
              " -0.06629552692174911,\n",
              " -0.0273257065564394,\n",
              " -0.0037458986043930054,\n",
              " -0.03224717080593109,\n",
              " 0.00859118066728115,\n",
              " 0.08421754837036133,\n",
              " -0.05517706647515297,\n",
              " -0.022773874923586845,\n",
              " 0.022619199007749557,\n",
              " -0.004239815287292004,\n",
              " -0.05710949748754501,\n",
              " 0.04194843769073486,\n",
              " 0.0002337236946914345,\n",
              " -0.03400476649403572,\n",
              " -0.006483107339590788,\n",
              " 0.03165918588638306,\n",
              " -0.09941679239273071,\n",
              " 0.0035164295695722103,\n",
              " 0.07508858293294907,\n",
              " 0.002621058141812682,\n",
              " 0.006394865456968546,\n",
              " -0.06942012906074524,\n",
              " -0.027390243485569954,\n",
              " 0.010883537121117115,\n",
              " 0.0341731458902359,\n",
              " -0.00822887010872364,\n",
              " -0.013065308332443237,\n",
              " 0.04187333583831787,\n",
              " -0.01747268997132778,\n",
              " 0.00289724743925035,\n",
              " 0.007128668949007988,\n",
              " -0.017419885843992233,\n",
              " 0.048265423625707626,\n",
              " 0.03327076509594917,\n",
              " 0.051174014806747437,\n",
              " 0.04169781878590584,\n",
              " 0.0055272262543439865,\n",
              " 0.006414066534489393,\n",
              " -0.038066424429416656,\n",
              " -0.038818493485450745,\n",
              " -0.08938076347112656,\n",
              " 0.07063222676515579,\n",
              " -0.049791328608989716,\n",
              " -0.09793523699045181,\n",
              " -0.0389581136405468,\n",
              " 0.004482598975300789,\n",
              " 0.00010541056690271944,\n",
              " -0.05635866895318031,\n",
              " 0.027326364070177078,\n",
              " -0.004003334324806929,\n",
              " -0.021808702498674393,\n",
              " -0.04402070492506027,\n",
              " 0.02397768199443817,\n",
              " -0.0411657989025116,\n",
              " -0.11033827811479568,\n",
              " 0.04195740073919296,\n",
              " -0.010478868149220943,\n",
              " 0.013172059319913387,\n",
              " -0.00040388203342445195,\n",
              " 0.026216330006718636,\n",
              " -0.17188836634159088,\n",
              " 0.024227041751146317,\n",
              " 0.024006538093090057,\n",
              " -0.09138613939285278,\n",
              " -0.01224881038069725,\n",
              " -0.02135053090751171,\n",
              " -0.012168345972895622,\n",
              " 0.04709896072745323,\n",
              " 3.354911203098703e-33,\n",
              " -0.020738545805215836,\n",
              " -0.020263727754354477,\n",
              " -0.08557023853063583,\n",
              " 0.06692858040332794,\n",
              " 0.03663892298936844,\n",
              " 0.06807409971952438,\n",
              " 0.05159050598740578,\n",
              " 0.06987960636615753,\n",
              " 0.03687457740306854,\n",
              " 0.0006219360511749983,\n",
              " 0.010170526802539825,\n",
              " 0.060718219727277756,\n",
              " 0.020501798018813133,\n",
              " -0.03457564860582352,\n",
              " -0.018520502373576164,\n",
              " 0.03217855468392372,\n",
              " 0.11754114180803299,\n",
              " 0.03373759612441063,\n",
              " 0.009071611799299717,\n",
              " 0.00987829640507698,\n",
              " -0.07984860986471176,\n",
              " -0.07955069839954376,\n",
              " -0.09187708795070648,\n",
              " -0.01385846920311451,\n",
              " 0.009590689092874527,\n",
              " 0.027025431394577026,\n",
              " 0.03665675222873688,\n",
              " 0.0005284295766614377,\n",
              " -0.025194751098752022,\n",
              " -0.004614769946783781,\n",
              " -0.005013314075767994,\n",
              " -0.04099158197641373,\n",
              " 0.03729437664151192,\n",
              " 0.047783564776182175,\n",
              " -0.04691814258694649,\n",
              " 0.03906363621354103,\n",
              " 0.08066751062870026,\n",
              " -0.018369967117905617,\n",
              " -0.05834835395216942,\n",
              " 0.043303679674863815,\n",
              " 0.15928925573825836,\n",
              " 0.024628151208162308,\n",
              " 0.008228151127696037,\n",
              " 0.06528212130069733,\n",
              " -0.04988713562488556,\n",
              " 0.009218953549861908,\n",
              " -0.12157675623893738,\n",
              " -0.037438277155160904,\n",
              " 0.02755631133913994,\n",
              " 0.05458911880850792,\n",
              " 0.010277541354298592,\n",
              " -0.03614485636353493,\n",
              " -0.024814195930957794,\n",
              " -0.09168161451816559,\n",
              " -0.09358755499124527,\n",
              " -0.032025475054979324,\n",
              " -0.04103611409664154,\n",
              " 0.013611513189971447,\n",
              " 0.0018129808595404029,\n",
              " -0.026031604036688805,\n",
              " -0.05469902977347374,\n",
              " 0.004551621153950691,\n",
              " -0.023835673928260803,\n",
              " 0.03686105087399483,\n",
              " 0.04939084127545357,\n",
              " -0.05067251995205879,\n",
              " -0.027704933658242226,\n",
              " 0.006776926573365927,\n",
              " -0.06078844517469406,\n",
              " 0.0024197115562856197,\n",
              " 0.0832790955901146,\n",
              " -0.028324725106358528,\n",
              " -0.05971652269363403,\n",
              " 0.00855350773781538,\n",
              " -0.015704212710261345,\n",
              " 0.00767758022993803,\n",
              " -0.03264777362346649,\n",
              " 0.023992275819182396,\n",
              " -0.11607927083969116,\n",
              " -0.032215017825365067,\n",
              " 0.10854703187942505,\n",
              " 0.024093084037303925,\n",
              " -0.03982517495751381,\n",
              " 0.09217050671577454,\n",
              " 0.03122219443321228,\n",
              " 0.03527374193072319,\n",
              " -0.034028757363557816,\n",
              " -0.01854272559285164,\n",
              " -0.009833179414272308,\n",
              " -0.009349617175757885,\n",
              " -0.008592267520725727,\n",
              " 0.05655654892325401,\n",
              " 0.006033079698681831,\n",
              " 0.060981281101703644,\n",
              " -0.05760066583752632,\n",
              " -1.1635803431886416e-08,\n",
              " -0.006743790581822395,\n",
              " -0.0831538736820221,\n",
              " -0.0409838929772377,\n",
              " -0.011076373979449272,\n",
              " 0.0001575248024892062,\n",
              " 0.04762899875640869,\n",
              " 0.033209435641765594,\n",
              " -0.04218154028058052,\n",
              " -0.014392022974789143,\n",
              " -0.02527664601802826,\n",
              " 0.015372141264379025,\n",
              " -0.011100735515356064,\n",
              " -0.04981204494833946,\n",
              " -0.0351349301636219,\n",
              " 0.04610341042280197,\n",
              " 0.005252133123576641,\n",
              " 0.008228771388530731,\n",
              " -0.026119206100702286,\n",
              " 0.009048126637935638,\n",
              " 0.003579059848561883,\n",
              " 0.07069475948810577,\n",
              " 0.04397069662809372,\n",
              " -0.03617426007986069,\n",
              " 0.029830751940608025,\n",
              " -0.04098062217235565,\n",
              " 0.02875944972038269,\n",
              " -0.019497277215123177,\n",
              " 0.08045526593923569,\n",
              " 0.017022782936692238,\n",
              " 0.006052060052752495,\n",
              " 0.09577792137861252,\n",
              " 0.0322246178984642,\n",
              " 0.00022554781753569841,\n",
              " -0.006827137432992458,\n",
              " 0.03878193348646164,\n",
              " -0.030960746109485626,\n",
              " 0.05713214725255966,\n",
              " -0.03579215332865715,\n",
              " 0.052842896431684494,\n",
              " 0.0424041822552681,\n",
              " 0.046750180423259735,\n",
              " 0.032280001789331436,\n",
              " -0.03312407806515694,\n",
              " -0.04374291002750397,\n",
              " 0.02271157130599022,\n",
              " -0.0009001943981274962,\n",
              " 0.03188788890838623,\n",
              " -0.11944139748811722,\n",
              " -0.019323309883475304,\n",
              " -0.040274277329444885,\n",
              " -0.0029005794785916805,\n",
              " 0.019449418410658836,\n",
              " 0.0419943630695343,\n",
              " 0.04271863028407097,\n",
              " 0.01920866221189499,\n",
              " -0.03271989896893501,\n",
              " 0.1010749414563179,\n",
              " 0.06337109208106995,\n",
              " -0.060945358127355576,\n",
              " 0.04491226002573967,\n",
              " 0.1000814288854599,\n",
              " 0.06980156153440475,\n",
              " 0.03963460028171539,\n",
              " -0.02925877273082733]"
            ]
          },
          "metadata": {},
          "execution_count": 40
        }
      ]
    },
    {
      "cell_type": "code",
      "source": [
        "!pip install pypdf"
      ],
      "metadata": {
        "colab": {
          "base_uri": "https://localhost:8080/"
        },
        "id": "Fau-CChhBt1b",
        "outputId": "1ba631fc-553d-4db5-f4cd-0bf0152ad204"
      },
      "execution_count": null,
      "outputs": [
        {
          "output_type": "stream",
          "name": "stdout",
          "text": [
            "Requirement already satisfied: pypdf in /usr/local/lib/python3.10/dist-packages (3.17.3)\n"
          ]
        }
      ]
    },
    {
      "cell_type": "code",
      "source": [
        "from langchain.vectorstores import FAISS\n",
        "from pypdf import PdfReader\n",
        "from langchain.document_loaders import PyPDFLoader\n",
        "\n",
        "loader = PyPDFLoader(\"/fibromyalgia-information-booklet-july2021.pdf\")\n",
        "pages = loader.load_and_split()\n",
        "\n",
        "\n",
        "documents = loader.load()"
      ],
      "metadata": {
        "id": "q_bgec8lYV7N"
      },
      "execution_count": null,
      "outputs": []
    },
    {
      "cell_type": "code",
      "source": [
        "!pip install faiss-gpu\n",
        "!pip install faiss-cpu"
      ],
      "metadata": {
        "colab": {
          "base_uri": "https://localhost:8080/"
        },
        "id": "CrmcKQi7CnD3",
        "outputId": "88306854-93a2-49fb-9724-998928d3b0c9"
      },
      "execution_count": null,
      "outputs": [
        {
          "output_type": "stream",
          "name": "stdout",
          "text": [
            "Requirement already satisfied: faiss-gpu in /usr/local/lib/python3.10/dist-packages (1.7.2)\n",
            "Requirement already satisfied: faiss-cpu in /usr/local/lib/python3.10/dist-packages (1.7.4)\n"
          ]
        }
      ]
    },
    {
      "cell_type": "code",
      "source": [
        "#creates a FAISS index from documents and their corresponding embeddings for efficient data retrieval\n",
        "db = FAISS.from_documents(documents, embeddings)"
      ],
      "metadata": {
        "id": "P8AL5i32CdKs"
      },
      "execution_count": null,
      "outputs": []
    },
    {
      "cell_type": "code",
      "source": [
        "#initializes a retrieval-based question-answering system using a language model and database retriever\n",
        "from langchain.chains import RetrievalQA\n",
        "\n",
        "retriever = db.as_retriever()\n",
        "\n",
        "qa = RetrievalQA.from_chain_type(\n",
        "    llm=llm,\n",
        "    chain_type=\"stuff\",\n",
        "    retriever=retriever,\n",
        "    return_source_documents=True)"
      ],
      "metadata": {
        "id": "4bbZDbJWZZ7_"
      },
      "execution_count": null,
      "outputs": []
    },
    {
      "cell_type": "code",
      "source": [
        "query = 'What this booklet is about?'\n",
        "result = qa({\"query\": query})\n",
        "\n",
        "print(result['result'])"
      ],
      "metadata": {
        "id": "qW093TRmYW2O",
        "colab": {
          "base_uri": "https://localhost:8080/"
        },
        "outputId": "9b7b1120-a54a-4105-e127-a7a02db36b03"
      },
      "execution_count": null,
      "outputs": [
        {
          "output_type": "stream",
          "name": "stdout",
          "text": [
            " This booklet is about fibromyalgia. It explains what fibromyalgia is, what the symptoms are, who gets it, how it is diagnosed, what the future holds for you, what treatments are available, how you can help yourself and what research is being done.\n",
            "\n",
            "\n",
            "\n",
            "\n",
            "\n",
            "\n",
            "\n",
            "\n",
            "\n",
            "\n",
            "\n",
            "\n",
            "\n",
            "\n",
            "\n",
            "\n",
            "\n",
            "\n",
            "\n",
            "\n",
            "\n",
            "\n",
            "\n",
            "\n",
            "\n",
            "\n",
            "\n",
            "\n",
            "\n",
            "\n",
            "\n",
            "\n",
            "\n",
            "\n",
            "\n",
            "\n",
            "\n",
            "\n",
            "\n",
            "\n",
            "\n"
          ]
        }
      ]
    },
    {
      "cell_type": "code",
      "source": [
        "#testing\n",
        "def test_chatbot():\n",
        "    test_queries = [\n",
        "        \"What are the symptoms of fibromyalgia?\",\n",
        "        \"How is fibromyalgia diagnosed?\",\n",
        "        \"Can diet affect fibromyalgia?\",\n",
        "        \"Are there any effective treatments for fibromyalgia?\"\n",
        "    ]\n",
        "\n",
        "    for query in test_queries:\n",
        "        print(f\"Query: {query}\")\n",
        "        response = llm(query)  # assuming llm is the function to get responses from the chatbot\n",
        "        print(f\"Response: {response}\\n\")\n",
        "\n",
        "# run the test\n",
        "test_chatbot()"
      ],
      "metadata": {
        "colab": {
          "base_uri": "https://localhost:8080/"
        },
        "id": "XLGW51L6P8NT",
        "outputId": "0dfba23e-1a98-4680-d2ee-1358fe973203"
      },
      "execution_count": null,
      "outputs": [
        {
          "output_type": "stream",
          "name": "stdout",
          "text": [
            "Query: What are the symptoms of fibromyalgia?\n",
            "Response: \n",
            "\n",
            "Fibromyalgia is a chronic condition that causes widespread pain and tenderness in the muscles and joints. It can also cause fatigue, sleep problems, and cognitive difficulties.\n",
            "\n",
            "The symptoms of fibromyalgia can vary from person to person, but some of the most common symptoms include:\n",
            "\n",
            "- Widespread pain and tenderness in the muscles and joints\n",
            "- Fatigue\n",
            "- Sleep problems\n",
            "- Cognitive difficulties, such as trouble\n",
            "\n",
            "Query: How is fibromyalgia diagnosed?\n",
            "Response: \n",
            "\n",
            "Fibromyalgia is diagnosed by a doctor who has experience with the condition. There is no single test that can diagnose fibromyalgia. Instead, the doctor will take a medical history and perform a physical exam.\n",
            "\n",
            "The doctor will ask about your symptoms and how long you have had them. They will also ask about your medical history and any other conditions you may have.\n",
            "\n",
            "The doctor will also perform a physical exam to check for any signs of fib\n",
            "\n",
            "Query: Can diet affect fibromyalgia?\n",
            "Response: \n",
            "\n",
            "Fibromyalgia is a chronic condition that causes widespread pain and tenderness in the muscles and joints. It is also associated with fatigue, sleep disturbances, and cognitive difficulties. While the exact cause of fibromyalgia is unknown, there is evidence to suggest that diet may play a role in the development and management of the condition.\n",
            "\n",
            "One theory is that certain foods may trigger inflammation in the body, which can exacerbate fibrom\n",
            "\n",
            "Query: Are there any effective treatments for fibromyalgia?\n",
            "Response: \n",
            "\n",
            "Fibromyalgia is a chronic condition that causes widespread pain and tenderness in the muscles and joints. It is also associated with fatigue, sleep disturbances, and cognitive difficulties.\n",
            "\n",
            "There is no cure for fibromyalgia, but there are treatments that can help manage the symptoms.\n",
            "\n",
            "The most common treatment for fibromyalgia is medication. There are several different types of medications that can be used to treat fibromyalgia,\n",
            "\n"
          ]
        }
      ]
    }
  ]
}